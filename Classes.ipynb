{
  "nbformat": 4,
  "nbformat_minor": 0,
  "metadata": {
    "colab": {
      "name": "Classes.ipynb",
      "provenance": [],
      "mount_file_id": "137TIq9zxRmZTVTwZ7_jGB0k7W3hFN9DD",
      "authorship_tag": "ABX9TyMip8iH/5z9CiSSUJzbqFNz",
      "include_colab_link": true
    },
    "kernelspec": {
      "name": "python3",
      "display_name": "Python 3"
    },
    "accelerator": "TPU"
  },
  "cells": [
    {
      "cell_type": "markdown",
      "metadata": {
        "id": "view-in-github",
        "colab_type": "text"
      },
      "source": [
        "<a href=\"https://colab.research.google.com/github/Kamranbarlas/Python-Crash-Course-Implementation/blob/master/Classes.ipynb\" target=\"_parent\"><img src=\"https://colab.research.google.com/assets/colab-badge.svg\" alt=\"Open In Colab\"/></a>"
      ]
    },
    {
      "cell_type": "markdown",
      "metadata": {
        "id": "DsC4UO7v-q0D",
        "colab_type": "text"
      },
      "source": [
        "# CLASSES"
      ]
    },
    {
      "cell_type": "markdown",
      "metadata": {
        "id": "CBKhbfM5EVps",
        "colab_type": "text"
      },
      "source": [
        "9-1.Restaurant:MakeaclasscalledRestaurantThe__init__()methodfor \n",
        "Restaurantshouldstoretwoattributes:arestaurant_nameandacuisine_type Makeamethodcalleddescribe_restaurant()thatprintsthesetwopiecesof \n",
        "information,andamethodcalledopen_restaurant()thatprintsamessageindi-catingthattherestaurantisopen"
      ]
    },
    {
      "cell_type": "code",
      "metadata": {
        "id": "51NNy4ac-f_W",
        "colab_type": "code",
        "colab": {}
      },
      "source": [
        "class Restaurant():\n",
        "    def __init__(self,restaurant_name,cuisine_type):\n",
        "        self.restaurant_name = restaurant_name\n",
        "        self.cuisine_type = cuisine_type\n",
        "    def describe_restauraunt(self):\n",
        "        print(\"Name: {} \\nCuisine Type: {}\".format(self.restaurant_name,self.cuisine_type))\n",
        "    def open_resturaunt(self):\n",
        "        print(\"The {} is open\".format(self.restaurant_name))"
      ],
      "execution_count": 3,
      "outputs": []
    },
    {
      "cell_type": "code",
      "metadata": {
        "id": "VdwkvibbC4qx",
        "colab_type": "code",
        "colab": {}
      },
      "source": [
        "restauraunt_1 = Restaurant(\"MFC\",\"Tikka\")"
      ],
      "execution_count": 4,
      "outputs": []
    },
    {
      "cell_type": "markdown",
      "metadata": {
        "id": "dMqvWpaEEke7",
        "colab_type": "text"
      },
      "source": [
        "MakeaninstancecalledrestaurantfromyourclassPrintthetwoattri-butesindividually,andthencallbothmethods"
      ]
    },
    {
      "cell_type": "code",
      "metadata": {
        "id": "8l-FMgBADvSx",
        "colab_type": "code",
        "colab": {
          "base_uri": "https://localhost:8080/",
          "height": 34
        },
        "outputId": "515a7675-8d4e-496f-b170-c135d4370935"
      },
      "source": [
        "restauraunt_1.restaurant_name"
      ],
      "execution_count": 8,
      "outputs": [
        {
          "output_type": "execute_result",
          "data": {
            "text/plain": [
              "'MFC'"
            ]
          },
          "metadata": {
            "tags": []
          },
          "execution_count": 8
        }
      ]
    },
    {
      "cell_type": "code",
      "metadata": {
        "id": "7DDLSmNOD12t",
        "colab_type": "code",
        "colab": {
          "base_uri": "https://localhost:8080/",
          "height": 34
        },
        "outputId": "ede44ec4-707d-4aa7-a580-5169ce6d4174"
      },
      "source": [
        "restauraunt_1.cuisine_type"
      ],
      "execution_count": 9,
      "outputs": [
        {
          "output_type": "execute_result",
          "data": {
            "text/plain": [
              "'Tikka'"
            ]
          },
          "metadata": {
            "tags": []
          },
          "execution_count": 9
        }
      ]
    },
    {
      "cell_type": "markdown",
      "metadata": {
        "id": "0VH1Q9gJEcHy",
        "colab_type": "text"
      },
      "source": [
        "9-2.Three Restaurants:Start withyour class from Exercise 9-1 Createthree different instances from the class, andc all describe_restaurant() for each \n",
        "instance"
      ]
    },
    {
      "cell_type": "code",
      "metadata": {
        "id": "w8Q5iW5cD-2H",
        "colab_type": "code",
        "colab": {}
      },
      "source": [
        "restauraunt_1 = Restaurant(\"MFC\",\"Tikka\")\n",
        "restauraunt_2 = Restaurant(\"Dehli Sohail\",\"Nihari\")\n",
        "restauraunt_3 = Restaurant(\"Karchi Food Centre\",\"Biryani\")"
      ],
      "execution_count": 11,
      "outputs": []
    },
    {
      "cell_type": "code",
      "metadata": {
        "id": "NdB_SpZoEpnh",
        "colab_type": "code",
        "colab": {
          "base_uri": "https://localhost:8080/",
          "height": 52
        },
        "outputId": "0a60f8c3-4274-4396-975c-4326aeb2e238"
      },
      "source": [
        "restauraunt_1.describe_restauraunt()"
      ],
      "execution_count": 13,
      "outputs": [
        {
          "output_type": "stream",
          "text": [
            "Name: MFC \n",
            "Cuisine Type: Tikka\n"
          ],
          "name": "stdout"
        }
      ]
    },
    {
      "cell_type": "code",
      "metadata": {
        "id": "d1noqqWLFFdK",
        "colab_type": "code",
        "colab": {
          "base_uri": "https://localhost:8080/",
          "height": 52
        },
        "outputId": "28f043dd-d32d-4f83-8144-ac2e9d7956c0"
      },
      "source": [
        "restauraunt_2.describe_restauraunt()"
      ],
      "execution_count": 14,
      "outputs": [
        {
          "output_type": "stream",
          "text": [
            "Name: Dehli Sohail \n",
            "Cuisine Type: Nihari\n"
          ],
          "name": "stdout"
        }
      ]
    },
    {
      "cell_type": "code",
      "metadata": {
        "id": "5rkGxRWsFbAK",
        "colab_type": "code",
        "colab": {
          "base_uri": "https://localhost:8080/",
          "height": 52
        },
        "outputId": "9f2cd960-a48d-40fd-b265-286a03ee65ec"
      },
      "source": [
        "restauraunt_3.describe_restauraunt()"
      ],
      "execution_count": 15,
      "outputs": [
        {
          "output_type": "stream",
          "text": [
            "Name: Karchi Food Centre \n",
            "Cuisine Type: Biryani\n"
          ],
          "name": "stdout"
        }
      ]
    },
    {
      "cell_type": "markdown",
      "metadata": {
        "id": "vmLaL-NBF3rA",
        "colab_type": "text"
      },
      "source": [
        "9-3.Users:Make a class called User two attributes called first_name \n",
        "and last_name,and then create several other attributes that are typically stored  in a user profile Make a method called describe_user() that prints a summary  of the user’s information Make another method called greet_user() that prints a personalized greeting to the user"
      ]
    },
    {
      "cell_type": "code",
      "metadata": {
        "id": "5qHJDrPqFds8",
        "colab_type": "code",
        "colab": {}
      },
      "source": [
        "class User():\n",
        "    def __init__(self,first_name,last_name,contact_number):\n",
        "        self.first_name = first_name\n",
        "        self.last_name = last_name\n",
        "        self.contact_number = contact_number\n",
        "    def describe_user(self):\n",
        "        print(\"Name: {} {} contact: {}\".format(self.first_name,self.last_name,self.contact_number))\n",
        "    def greet_user(self):\n",
        "        print(\"Greeting To {} {} , we Welcome you to Our Resauraunt\".format(self.first_name,self.last_name))"
      ],
      "execution_count": 65,
      "outputs": []
    },
    {
      "cell_type": "code",
      "metadata": {
        "id": "GUkoDB5YIHyC",
        "colab_type": "code",
        "colab": {}
      },
      "source": [
        "User_1 = User(\"Muzzamil\",\"Altaf\",\"034400XXXXX\")\n",
        "User_2 = User(\"Kashan\",\"Baig\",\"0347241XXXXX\")\n",
        "User_3 = User(\"Monis\",\"Zaidi\",\"0300XXXXXXX\")"
      ],
      "execution_count": 66,
      "outputs": []
    },
    {
      "cell_type": "markdown",
      "metadata": {
        "id": "td7762mJMUrd",
        "colab_type": "text"
      },
      "source": [
        "Create several instances representing different users,and call both methods for each user"
      ]
    },
    {
      "cell_type": "code",
      "metadata": {
        "id": "f3zQ7Z73L28H",
        "colab_type": "code",
        "colab": {
          "base_uri": "https://localhost:8080/",
          "height": 52
        },
        "outputId": "9e146e34-69b7-43c4-cbbe-751a8d5e7918"
      },
      "source": [
        "User_1.describe_user()\n",
        "User_1.greet_user()"
      ],
      "execution_count": 67,
      "outputs": [
        {
          "output_type": "stream",
          "text": [
            "Name: Muzzamil Altaf contact: 034400XXXXX\n",
            "Greeting To Muzzamil Altaf , we Welcome you to Our Resauraunt\n"
          ],
          "name": "stdout"
        }
      ]
    },
    {
      "cell_type": "code",
      "metadata": {
        "id": "JS7m1r5FL_av",
        "colab_type": "code",
        "colab": {
          "base_uri": "https://localhost:8080/",
          "height": 52
        },
        "outputId": "bca9eb48-6a65-4a2c-ea44-a616d42fc3fa"
      },
      "source": [
        "User_2.describe_user()\n",
        "User_2.greet_user()"
      ],
      "execution_count": 68,
      "outputs": [
        {
          "output_type": "stream",
          "text": [
            "Name: Kashan Baig contact: 0347241XXXXX\n",
            "Greeting To Kashan Baig , we Welcome you to Our Resauraunt\n"
          ],
          "name": "stdout"
        }
      ]
    },
    {
      "cell_type": "code",
      "metadata": {
        "id": "XBZI1CZFMN87",
        "colab_type": "code",
        "colab": {
          "base_uri": "https://localhost:8080/",
          "height": 52
        },
        "outputId": "3930a642-37c9-424a-b605-c57b23fcb1d6"
      },
      "source": [
        "User_3.describe_user()\n",
        "User_3.greet_user()"
      ],
      "execution_count": 26,
      "outputs": [
        {
          "output_type": "stream",
          "text": [
            "Name: Monis Zaidi contact: 0300XXXXXXX\n",
            "Greeting To Monis Zaidi , we Welcome you to Our Resauraunt\n"
          ],
          "name": "stdout"
        }
      ]
    },
    {
      "cell_type": "markdown",
      "metadata": {
        "id": "0q_TRJcDQRtg",
        "colab_type": "text"
      },
      "source": [
        "# 9-4 \n",
        "Start with your program from Exercise 9-1 (page 166)\n",
        "Add an attribute called number_served with a default value of 0 Create an \n",
        "instance called restaurant from this class Print the number of customers the \n",
        "restaurant has served, and then change this value and print it again"
      ]
    },
    {
      "cell_type": "code",
      "metadata": {
        "colab_type": "code",
        "id": "pwl_s--bfgc2",
        "colab": {}
      },
      "source": [
        "class Restaurant():\n",
        "    def __init__(self,restaurant_name,cuisine_type):\n",
        "        self.restaurant_name = restaurant_name\n",
        "        self.cuisine_type = cuisine_type\n",
        "        self.number_served = 0\n",
        "    def describe_restauraunt(self):\n",
        "        print(\"Name: {} \\nCuisine Type: {}\".format(self.restaurant_name,self.cuisine_type))\n",
        "    def open_resturaunt(self):\n",
        "        print(\"The {} is open\".format(self.restaurant_name))\n",
        "    def set_number_served(self,new_Customers):\n",
        "        self.number_served =new_Customers\n",
        "    def increment_number_served(self,new_Customers):\n",
        "        self.number_served +=new_Customers"
      ],
      "execution_count": 55,
      "outputs": []
    },
    {
      "cell_type": "code",
      "metadata": {
        "id": "DFt0pvtEfsyg",
        "colab_type": "code",
        "colab": {
          "base_uri": "https://localhost:8080/",
          "height": 34
        },
        "outputId": "a581eee4-6b47-4d7b-b139-3a198403a2ad"
      },
      "source": [
        "restaurant_from_this_class = Restaurant(\"Mc Donalds\",\"fries\")\n",
        "restaurant_from_this_class.number_served"
      ],
      "execution_count": 57,
      "outputs": [
        {
          "output_type": "execute_result",
          "data": {
            "text/plain": [
              "0"
            ]
          },
          "metadata": {
            "tags": []
          },
          "execution_count": 57
        }
      ]
    },
    {
      "cell_type": "code",
      "metadata": {
        "id": "GwD182Utf2my",
        "colab_type": "code",
        "colab": {}
      },
      "source": [
        "restaurant_from_this_class.number_served = 3"
      ],
      "execution_count": 58,
      "outputs": []
    },
    {
      "cell_type": "code",
      "metadata": {
        "id": "G7gLc2JhkIiT",
        "colab_type": "code",
        "colab": {
          "base_uri": "https://localhost:8080/",
          "height": 34
        },
        "outputId": "a15cd282-78ca-4e60-cd4a-0ff12cb9fb39"
      },
      "source": [
        "restaurant_from_this_class.number_served"
      ],
      "execution_count": 63,
      "outputs": [
        {
          "output_type": "execute_result",
          "data": {
            "text/plain": [
              "6"
            ]
          },
          "metadata": {
            "tags": []
          },
          "execution_count": 63
        }
      ]
    },
    {
      "cell_type": "markdown",
      "metadata": {
        "id": "kFqHDNmHqhFO",
        "colab_type": "text"
      },
      "source": [
        "Add a method called set_number_served() that lets you set the number \n",
        "of customers that have been served Call this method with a new number and \n",
        "print the value again"
      ]
    },
    {
      "cell_type": "code",
      "metadata": {
        "id": "0PlRP2B3kJ_v",
        "colab_type": "code",
        "colab": {}
      },
      "source": [
        "restaurant_from_this_class.set_number_served(4)"
      ],
      "execution_count": 60,
      "outputs": []
    },
    {
      "cell_type": "markdown",
      "metadata": {
        "id": "pkpI6necqm49",
        "colab_type": "text"
      },
      "source": [
        "Add a method called increment_number_served() that lets you increment \n",
        "the number of customers who’ve been served Call this method with any num\u0002ber you like that could represent how many customers were served in, say, a \n",
        "day of business"
      ]
    },
    {
      "cell_type": "code",
      "metadata": {
        "id": "mbjDy_aik8A_",
        "colab_type": "code",
        "colab": {
          "base_uri": "https://localhost:8080/",
          "height": 34
        },
        "outputId": "91622239-466a-406d-d764-154138e1c78a"
      },
      "source": [
        "restaurant_from_this_class.increment_number_served(2)\n",
        "restaurant_from_this_class.number_served"
      ],
      "execution_count": 64,
      "outputs": [
        {
          "output_type": "execute_result",
          "data": {
            "text/plain": [
              "8"
            ]
          },
          "metadata": {
            "tags": []
          },
          "execution_count": 64
        }
      ]
    },
    {
      "cell_type": "markdown",
      "metadata": {
        "id": "0koMkm9br_jD",
        "colab_type": "text"
      },
      "source": [
        "# 9-5. Login Attempts:\n",
        " Add an attribute called login_attempts to your User\n",
        "class from Exercise 9-3 (page 166) Write a method called increment_\n",
        "login_attempts() that increments the value of login_attempts by 1 Write \n",
        "another method called reset_login_attempts() that resets the value of login_\n",
        "attempts to 0.\n",
        "Make an instance of the User class and call increment_login_attempts()\n",
        "several times Print the value of login_attempts to make sure it was incremented \n",
        "properly, and then call reset_login_attempts() Print login_attempts again to \n",
        "make sure it was reset to 0"
      ]
    },
    {
      "cell_type": "code",
      "metadata": {
        "id": "ifXce_ahqOPv",
        "colab_type": "code",
        "colab": {}
      },
      "source": [
        "class User():\n",
        "    def __init__(self,first_name,last_name,contact_number):\n",
        "        self.first_name = first_name\n",
        "        self.last_name = last_name\n",
        "        self.contact_number = contact_number\n",
        "        self.login_attempts = 0\n",
        "    def describe_user(self):\n",
        "        print(\"Name: {} {} contact: {}\".format(self.first_name,self.last_name,self.contact_number))\n",
        "    def greet_user(self):\n",
        "        print(\"Greeting To {} {} , we Welcome you to Our Resauraunt\".format(self.first_name,self.last_name))\n",
        "    def increment_login_attempts(self):\n",
        "        self.login_attempts += 1\n",
        "    def reset_login_attempts(self):\n",
        "        self.login_attempts = 0"
      ],
      "execution_count": 69,
      "outputs": []
    },
    {
      "cell_type": "code",
      "metadata": {
        "id": "-mFzHLlt0PLb",
        "colab_type": "code",
        "colab": {}
      },
      "source": [
        "User_1 = User(\"Kamran\",\"Barlas\",\"0324338377X\")"
      ],
      "execution_count": 70,
      "outputs": []
    },
    {
      "cell_type": "code",
      "metadata": {
        "id": "mHgGVESN1Fj6",
        "colab_type": "code",
        "colab": {
          "base_uri": "https://localhost:8080/",
          "height": 52
        },
        "outputId": "edb36760-fe4f-49e3-8ec1-7a654c4d4c85"
      },
      "source": [
        "User_1.describe_user()\n",
        "User_1.increment_login_attempts()\n",
        "User_1.login_attempts"
      ],
      "execution_count": 78,
      "outputs": [
        {
          "output_type": "stream",
          "text": [
            "Name: Kamran Barlas contact: 0324338377X\n"
          ],
          "name": "stdout"
        },
        {
          "output_type": "execute_result",
          "data": {
            "text/plain": [
              "1"
            ]
          },
          "metadata": {
            "tags": []
          },
          "execution_count": 78
        }
      ]
    },
    {
      "cell_type": "code",
      "metadata": {
        "id": "G4QTMOhD1NGE",
        "colab_type": "code",
        "colab": {
          "base_uri": "https://localhost:8080/",
          "height": 34
        },
        "outputId": "966e62f4-94bd-45e9-c160-7194c92209e5"
      },
      "source": [
        "User_1.reset_login_attempts()\n",
        "User_1.login_attempts"
      ],
      "execution_count": 79,
      "outputs": [
        {
          "output_type": "execute_result",
          "data": {
            "text/plain": [
              "0"
            ]
          },
          "metadata": {
            "tags": []
          },
          "execution_count": 79
        }
      ]
    },
    {
      "cell_type": "markdown",
      "metadata": {
        "id": "21IxC77J1wEu",
        "colab_type": "text"
      },
      "source": [
        "# Inheritance"
      ]
    },
    {
      "cell_type": "code",
      "metadata": {
        "id": "0G7yQM8u85sM",
        "colab_type": "code",
        "colab": {}
      },
      "source": [
        ""
      ],
      "execution_count": null,
      "outputs": []
    }
  ]
}