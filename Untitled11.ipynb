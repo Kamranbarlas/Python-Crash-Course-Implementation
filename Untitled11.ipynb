{
  "nbformat": 4,
  "nbformat_minor": 0,
  "metadata": {
    "colab": {
      "name": "Untitled11.ipynb",
      "provenance": [],
      "mount_file_id": "137TIq9zxRmZTVTwZ7_jGB0k7W3hFN9DD",
      "authorship_tag": "ABX9TyO5bC9JftjEBIyI2n/hmreC",
      "include_colab_link": true
    },
    "kernelspec": {
      "name": "python3",
      "display_name": "Python 3"
    },
    "accelerator": "TPU"
  },
  "cells": [
    {
      "cell_type": "markdown",
      "metadata": {
        "id": "view-in-github",
        "colab_type": "text"
      },
      "source": [
        "<a href=\"https://colab.research.google.com/github/Kamranbarlas/Python-Crash-Course-Implementation/blob/master/Untitled11.ipynb\" target=\"_parent\"><img src=\"https://colab.research.google.com/assets/colab-badge.svg\" alt=\"Open In Colab\"/></a>"
      ]
    },
    {
      "cell_type": "markdown",
      "metadata": {
        "id": "DsC4UO7v-q0D",
        "colab_type": "text"
      },
      "source": [
        "# CLASSES"
      ]
    },
    {
      "cell_type": "markdown",
      "metadata": {
        "id": "CBKhbfM5EVps",
        "colab_type": "text"
      },
      "source": [
        "9-1.Restaurant:MakeaclasscalledRestaurantThe__init__()methodfor \n",
        "Restaurantshouldstoretwoattributes:arestaurant_nameandacuisine_type Makeamethodcalleddescribe_restaurant()thatprintsthesetwopiecesof \n",
        "information,andamethodcalledopen_restaurant()thatprintsamessageindi-catingthattherestaurantisopen"
      ]
    },
    {
      "cell_type": "code",
      "metadata": {
        "id": "51NNy4ac-f_W",
        "colab_type": "code",
        "colab": {}
      },
      "source": [
        "class Restaurant():\n",
        "    def __init__(self,restaurant_name,cuisine_type):\n",
        "        self.restaurant_name = restaurant_name\n",
        "        self.cuisine_type = cuisine_type\n",
        "    def describe_restauraunt(self):\n",
        "        print(\"Name: {} \\nCuisine Type: {}\".format(self.restaurant_name,self.cuisine_type))\n",
        "    def open_resturaunt(self):\n",
        "        print(\"The {} is open\".format(self.restaurant_name))"
      ],
      "execution_count": 3,
      "outputs": []
    },
    {
      "cell_type": "code",
      "metadata": {
        "id": "VdwkvibbC4qx",
        "colab_type": "code",
        "colab": {}
      },
      "source": [
        "restauraunt_1 = Restaurant(\"MFC\",\"Tikka\")"
      ],
      "execution_count": 4,
      "outputs": []
    },
    {
      "cell_type": "markdown",
      "metadata": {
        "id": "dMqvWpaEEke7",
        "colab_type": "text"
      },
      "source": [
        "MakeaninstancecalledrestaurantfromyourclassPrintthetwoattri-butesindividually,andthencallbothmethods"
      ]
    },
    {
      "cell_type": "code",
      "metadata": {
        "id": "8l-FMgBADvSx",
        "colab_type": "code",
        "colab": {
          "base_uri": "https://localhost:8080/",
          "height": 34
        },
        "outputId": "515a7675-8d4e-496f-b170-c135d4370935"
      },
      "source": [
        "restauraunt_1.restaurant_name"
      ],
      "execution_count": 8,
      "outputs": [
        {
          "output_type": "execute_result",
          "data": {
            "text/plain": [
              "'MFC'"
            ]
          },
          "metadata": {
            "tags": []
          },
          "execution_count": 8
        }
      ]
    },
    {
      "cell_type": "code",
      "metadata": {
        "id": "7DDLSmNOD12t",
        "colab_type": "code",
        "colab": {
          "base_uri": "https://localhost:8080/",
          "height": 34
        },
        "outputId": "ede44ec4-707d-4aa7-a580-5169ce6d4174"
      },
      "source": [
        "restauraunt_1.cuisine_type"
      ],
      "execution_count": 9,
      "outputs": [
        {
          "output_type": "execute_result",
          "data": {
            "text/plain": [
              "'Tikka'"
            ]
          },
          "metadata": {
            "tags": []
          },
          "execution_count": 9
        }
      ]
    },
    {
      "cell_type": "markdown",
      "metadata": {
        "id": "0VH1Q9gJEcHy",
        "colab_type": "text"
      },
      "source": [
        "9-2.Three Restaurants:Start withyour class from Exercise 9-1 Createthree different instances from the class, andc all describe_restaurant() for each \n",
        "instance"
      ]
    },
    {
      "cell_type": "code",
      "metadata": {
        "id": "w8Q5iW5cD-2H",
        "colab_type": "code",
        "colab": {}
      },
      "source": [
        "restauraunt_1 = Restaurant(\"MFC\",\"Tikka\")\n",
        "restauraunt_2 = Restaurant(\"Dehli Sohail\",\"Nihari\")\n",
        "restauraunt_3 = Restaurant(\"Karchi Food Centre\",\"Biryani\")"
      ],
      "execution_count": 11,
      "outputs": []
    },
    {
      "cell_type": "code",
      "metadata": {
        "id": "NdB_SpZoEpnh",
        "colab_type": "code",
        "colab": {
          "base_uri": "https://localhost:8080/",
          "height": 52
        },
        "outputId": "0a60f8c3-4274-4396-975c-4326aeb2e238"
      },
      "source": [
        "restauraunt_1.describe_restauraunt()"
      ],
      "execution_count": 13,
      "outputs": [
        {
          "output_type": "stream",
          "text": [
            "Name: MFC \n",
            "Cuisine Type: Tikka\n"
          ],
          "name": "stdout"
        }
      ]
    },
    {
      "cell_type": "code",
      "metadata": {
        "id": "d1noqqWLFFdK",
        "colab_type": "code",
        "colab": {
          "base_uri": "https://localhost:8080/",
          "height": 52
        },
        "outputId": "28f043dd-d32d-4f83-8144-ac2e9d7956c0"
      },
      "source": [
        "restauraunt_2.describe_restauraunt()"
      ],
      "execution_count": 14,
      "outputs": [
        {
          "output_type": "stream",
          "text": [
            "Name: Dehli Sohail \n",
            "Cuisine Type: Nihari\n"
          ],
          "name": "stdout"
        }
      ]
    },
    {
      "cell_type": "code",
      "metadata": {
        "id": "5rkGxRWsFbAK",
        "colab_type": "code",
        "colab": {
          "base_uri": "https://localhost:8080/",
          "height": 52
        },
        "outputId": "9f2cd960-a48d-40fd-b265-286a03ee65ec"
      },
      "source": [
        "restauraunt_3.describe_restauraunt()"
      ],
      "execution_count": 15,
      "outputs": [
        {
          "output_type": "stream",
          "text": [
            "Name: Karchi Food Centre \n",
            "Cuisine Type: Biryani\n"
          ],
          "name": "stdout"
        }
      ]
    },
    {
      "cell_type": "code",
      "metadata": {
        "id": "5qHJDrPqFds8",
        "colab_type": "code",
        "colab": {}
      },
      "source": [
        ""
      ],
      "execution_count": null,
      "outputs": []
    }
  ]
}